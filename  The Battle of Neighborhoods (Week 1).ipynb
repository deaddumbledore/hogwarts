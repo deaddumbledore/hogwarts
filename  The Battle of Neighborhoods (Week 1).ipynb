{
    "cells": [
        {
            "metadata": {
                "collapsed": true
            },
            "cell_type": "markdown",
            "source": "<h1 align=center><font size=5>Tourism in India post Covid-19</font></h1>"
        },
        {
            "metadata": {},
            "cell_type": "markdown",
            "source": "# Background\nCovid-19 pandemic has wreaked havoc across the world. Entire world economy is at standstill. All the Sectors viz Manufacturing, Service, Information & Technology, Tourism, Food, Petroleum, Agriculture, Entertainment have been affected by it. Tourism is one such major contributor of the economy anywhere in the World. Post Covid-19 pandemic there will be one major concern for any potential customer in Tourism sector. That will whether the City/Place the customer wants to visit is safe or not? This project intends to map out the spread of Covid-19 as on 30.04.2020 in India and try to address this question. Domestic as well as International Tourism Companies shall be interested parties for the answer to the above question."
        },
        {
            "metadata": {},
            "cell_type": "markdown",
            "source": "# Data and Approach"
        },
        {
            "metadata": {},
            "cell_type": "markdown",
            "source": "Data for addressing the above problem will be downloaded from multiple sources:\n+ 1)\tCovid-19 Data for India: https://www.mygov.in/covid-19:\nThis is a government website which continuously updates the stats of Covid-19 spread in India. This data will give us an idea of State wise spread of the infection in the country\n+ 2)\tPopular Tourist Destinations in India: https://traveltriangle.com/blog/places-to-visit-in-india-before-you-turn-30/ :\nThis data will give us popular tourist locations in India which we will be plotting on Map to get and comparing with Covid-19 spread to get an idea of which locations are safe to go \n+ 3)\tGeojson file for India for plotting Choropleth Map: https://github.com/datameet/maps/blob/master/Country/india-osm.geojson\n\n+ The above mentioned data sources will yeild only the names of the states or places. The project will make use of FOURSQUARE location data or any other datasets in combination with the Foursquare location data to get Latitude,Longitude coordinates in order to plot the same.If required use of Venues,Neighborhood might also be put to use."
        },
        {
            "metadata": {},
            "cell_type": "markdown",
            "source": "At the end of the project,we will be able to "
        }
    ],
    "metadata": {
        "kernelspec": {
            "name": "python3",
            "display_name": "Python 3.6",
            "language": "python"
        },
        "language_info": {
            "name": "python",
            "version": "3.6.9",
            "mimetype": "text/x-python",
            "codemirror_mode": {
                "name": "ipython",
                "version": 3
            },
            "pygments_lexer": "ipython3",
            "nbconvert_exporter": "python",
            "file_extension": ".py"
        }
    },
    "nbformat": 4,
    "nbformat_minor": 1
}